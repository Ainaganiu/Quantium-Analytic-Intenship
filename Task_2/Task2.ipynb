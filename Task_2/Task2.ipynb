{
 "cells": [
  {
   "cell_type": "markdown",
   "metadata": {},
   "source": [
    "#Retail Strategy and Analytics - Task 2"
   ]
  },
  {
   "cell_type": "markdown",
   "metadata": {},
   "source": [
    "Let load the necessary library"
   ]
  },
  {
   "cell_type": "code",
   "execution_count": 1,
   "metadata": {},
   "outputs": [],
   "source": [
    "import pandas as pd\n",
    "import numpy as np\n",
    "import matplotlib.pyplot as plt\n",
    "import seaborn as sns\n",
    "import scipy.stats as stats\n",
    "import warnings\n",
    "warnings.filterwarnings('ignore')"
   ]
  },
  {
   "cell_type": "markdown",
   "metadata": {},
   "source": [
    "Importing the dataset"
   ]
  },
  {
   "cell_type": "code",
   "execution_count": 2,
   "metadata": {},
   "outputs": [],
   "source": [
    "df = pd.read_csv('C:/Users/User/Documents/Quatum Intenship/Task1/Customer_Data.csv')"
   ]
  },
  {
   "cell_type": "code",
   "execution_count": 3,
   "metadata": {},
   "outputs": [],
   "source": [
    "df= df.drop('Unnamed: 0',axis=1)\n"
   ]
  },
  {
   "cell_type": "code",
   "execution_count": 4,
   "metadata": {},
   "outputs": [
    {
     "data": {
      "text/html": [
       "<div>\n",
       "<style scoped>\n",
       "    .dataframe tbody tr th:only-of-type {\n",
       "        vertical-align: middle;\n",
       "    }\n",
       "\n",
       "    .dataframe tbody tr th {\n",
       "        vertical-align: top;\n",
       "    }\n",
       "\n",
       "    .dataframe thead th {\n",
       "        text-align: right;\n",
       "    }\n",
       "</style>\n",
       "<table border=\"1\" class=\"dataframe\">\n",
       "  <thead>\n",
       "    <tr style=\"text-align: right;\">\n",
       "      <th></th>\n",
       "      <th>DATE</th>\n",
       "      <th>STORE_NBR</th>\n",
       "      <th>LYLTY_CARD_NBR</th>\n",
       "      <th>TXN_ID</th>\n",
       "      <th>PROD_NBR</th>\n",
       "      <th>PROD_NAME</th>\n",
       "      <th>PROD_QTY</th>\n",
       "      <th>TOT_SALES</th>\n",
       "      <th>Pack_Size</th>\n",
       "      <th>BRAND</th>\n",
       "      <th>LIFESTAGE</th>\n",
       "      <th>PREMIUM_CUSTOMER</th>\n",
       "    </tr>\n",
       "  </thead>\n",
       "  <tbody>\n",
       "    <tr>\n",
       "      <th>0</th>\n",
       "      <td>2018-10-17</td>\n",
       "      <td>1</td>\n",
       "      <td>1000</td>\n",
       "      <td>1</td>\n",
       "      <td>5</td>\n",
       "      <td>Natural Chip        Compny SeaSalt175g</td>\n",
       "      <td>2</td>\n",
       "      <td>6.0</td>\n",
       "      <td>175</td>\n",
       "      <td>Natural</td>\n",
       "      <td>YOUNG SINGLES/COUPLES</td>\n",
       "      <td>Premium</td>\n",
       "    </tr>\n",
       "    <tr>\n",
       "      <th>1</th>\n",
       "      <td>2019-05-14</td>\n",
       "      <td>1</td>\n",
       "      <td>1307</td>\n",
       "      <td>348</td>\n",
       "      <td>66</td>\n",
       "      <td>CCs Nacho Cheese    175g</td>\n",
       "      <td>3</td>\n",
       "      <td>6.3</td>\n",
       "      <td>175</td>\n",
       "      <td>CCs</td>\n",
       "      <td>MIDAGE SINGLES/COUPLES</td>\n",
       "      <td>Budget</td>\n",
       "    </tr>\n",
       "    <tr>\n",
       "      <th>2</th>\n",
       "      <td>2018-11-10</td>\n",
       "      <td>1</td>\n",
       "      <td>1307</td>\n",
       "      <td>346</td>\n",
       "      <td>96</td>\n",
       "      <td>WW Original Stacked Chips 160g</td>\n",
       "      <td>2</td>\n",
       "      <td>3.8</td>\n",
       "      <td>160</td>\n",
       "      <td>WW</td>\n",
       "      <td>MIDAGE SINGLES/COUPLES</td>\n",
       "      <td>Budget</td>\n",
       "    </tr>\n",
       "    <tr>\n",
       "      <th>3</th>\n",
       "      <td>2019-03-09</td>\n",
       "      <td>1</td>\n",
       "      <td>1307</td>\n",
       "      <td>347</td>\n",
       "      <td>54</td>\n",
       "      <td>CCs Original 175g</td>\n",
       "      <td>1</td>\n",
       "      <td>2.1</td>\n",
       "      <td>175</td>\n",
       "      <td>CCs</td>\n",
       "      <td>MIDAGE SINGLES/COUPLES</td>\n",
       "      <td>Budget</td>\n",
       "    </tr>\n",
       "    <tr>\n",
       "      <th>4</th>\n",
       "      <td>2019-05-20</td>\n",
       "      <td>1</td>\n",
       "      <td>1343</td>\n",
       "      <td>383</td>\n",
       "      <td>61</td>\n",
       "      <td>Smiths Crinkle Cut  Chips Chicken 170g</td>\n",
       "      <td>2</td>\n",
       "      <td>2.9</td>\n",
       "      <td>170</td>\n",
       "      <td>Smiths</td>\n",
       "      <td>MIDAGE SINGLES/COUPLES</td>\n",
       "      <td>Budget</td>\n",
       "    </tr>\n",
       "  </tbody>\n",
       "</table>\n",
       "</div>"
      ],
      "text/plain": [
       "         DATE  STORE_NBR  LYLTY_CARD_NBR  TXN_ID  PROD_NBR  \\\n",
       "0  2018-10-17          1            1000       1         5   \n",
       "1  2019-05-14          1            1307     348        66   \n",
       "2  2018-11-10          1            1307     346        96   \n",
       "3  2019-03-09          1            1307     347        54   \n",
       "4  2019-05-20          1            1343     383        61   \n",
       "\n",
       "                                PROD_NAME  PROD_QTY  TOT_SALES  Pack_Size  \\\n",
       "0  Natural Chip        Compny SeaSalt175g         2        6.0        175   \n",
       "1                CCs Nacho Cheese    175g         3        6.3        175   \n",
       "2          WW Original Stacked Chips 160g         2        3.8        160   \n",
       "3                       CCs Original 175g         1        2.1        175   \n",
       "4  Smiths Crinkle Cut  Chips Chicken 170g         2        2.9        170   \n",
       "\n",
       "     BRAND               LIFESTAGE PREMIUM_CUSTOMER  \n",
       "0  Natural   YOUNG SINGLES/COUPLES          Premium  \n",
       "1      CCs  MIDAGE SINGLES/COUPLES           Budget  \n",
       "2       WW  MIDAGE SINGLES/COUPLES           Budget  \n",
       "3      CCs  MIDAGE SINGLES/COUPLES           Budget  \n",
       "4   Smiths  MIDAGE SINGLES/COUPLES           Budget  "
      ]
     },
     "execution_count": 4,
     "metadata": {},
     "output_type": "execute_result"
    }
   ],
   "source": [
    "df.head()"
   ]
  },
  {
   "cell_type": "markdown",
   "metadata": {},
   "source": [
    "Adding Month name to dataset"
   ]
  },
  {
   "cell_type": "code",
   "execution_count": 5,
   "metadata": {},
   "outputs": [
    {
     "data": {
      "text/html": [
       "<div>\n",
       "<style scoped>\n",
       "    .dataframe tbody tr th:only-of-type {\n",
       "        vertical-align: middle;\n",
       "    }\n",
       "\n",
       "    .dataframe tbody tr th {\n",
       "        vertical-align: top;\n",
       "    }\n",
       "\n",
       "    .dataframe thead th {\n",
       "        text-align: right;\n",
       "    }\n",
       "</style>\n",
       "<table border=\"1\" class=\"dataframe\">\n",
       "  <thead>\n",
       "    <tr style=\"text-align: right;\">\n",
       "      <th></th>\n",
       "      <th>DATE</th>\n",
       "      <th>STORE_NBR</th>\n",
       "      <th>LYLTY_CARD_NBR</th>\n",
       "      <th>TXN_ID</th>\n",
       "      <th>PROD_NBR</th>\n",
       "      <th>PROD_NAME</th>\n",
       "      <th>PROD_QTY</th>\n",
       "      <th>TOT_SALES</th>\n",
       "      <th>Pack_Size</th>\n",
       "      <th>BRAND</th>\n",
       "      <th>LIFESTAGE</th>\n",
       "      <th>PREMIUM_CUSTOMER</th>\n",
       "      <th>MONTH</th>\n",
       "    </tr>\n",
       "  </thead>\n",
       "  <tbody>\n",
       "    <tr>\n",
       "      <th>0</th>\n",
       "      <td>2018-10-17</td>\n",
       "      <td>1</td>\n",
       "      <td>1000</td>\n",
       "      <td>1</td>\n",
       "      <td>5</td>\n",
       "      <td>Natural Chip        Compny SeaSalt175g</td>\n",
       "      <td>2</td>\n",
       "      <td>6.0</td>\n",
       "      <td>175</td>\n",
       "      <td>Natural</td>\n",
       "      <td>YOUNG SINGLES/COUPLES</td>\n",
       "      <td>Premium</td>\n",
       "      <td>October</td>\n",
       "    </tr>\n",
       "    <tr>\n",
       "      <th>1</th>\n",
       "      <td>2019-05-14</td>\n",
       "      <td>1</td>\n",
       "      <td>1307</td>\n",
       "      <td>348</td>\n",
       "      <td>66</td>\n",
       "      <td>CCs Nacho Cheese    175g</td>\n",
       "      <td>3</td>\n",
       "      <td>6.3</td>\n",
       "      <td>175</td>\n",
       "      <td>CCs</td>\n",
       "      <td>MIDAGE SINGLES/COUPLES</td>\n",
       "      <td>Budget</td>\n",
       "      <td>May</td>\n",
       "    </tr>\n",
       "    <tr>\n",
       "      <th>2</th>\n",
       "      <td>2018-11-10</td>\n",
       "      <td>1</td>\n",
       "      <td>1307</td>\n",
       "      <td>346</td>\n",
       "      <td>96</td>\n",
       "      <td>WW Original Stacked Chips 160g</td>\n",
       "      <td>2</td>\n",
       "      <td>3.8</td>\n",
       "      <td>160</td>\n",
       "      <td>WW</td>\n",
       "      <td>MIDAGE SINGLES/COUPLES</td>\n",
       "      <td>Budget</td>\n",
       "      <td>November</td>\n",
       "    </tr>\n",
       "    <tr>\n",
       "      <th>3</th>\n",
       "      <td>2019-03-09</td>\n",
       "      <td>1</td>\n",
       "      <td>1307</td>\n",
       "      <td>347</td>\n",
       "      <td>54</td>\n",
       "      <td>CCs Original 175g</td>\n",
       "      <td>1</td>\n",
       "      <td>2.1</td>\n",
       "      <td>175</td>\n",
       "      <td>CCs</td>\n",
       "      <td>MIDAGE SINGLES/COUPLES</td>\n",
       "      <td>Budget</td>\n",
       "      <td>March</td>\n",
       "    </tr>\n",
       "    <tr>\n",
       "      <th>4</th>\n",
       "      <td>2019-05-20</td>\n",
       "      <td>1</td>\n",
       "      <td>1343</td>\n",
       "      <td>383</td>\n",
       "      <td>61</td>\n",
       "      <td>Smiths Crinkle Cut  Chips Chicken 170g</td>\n",
       "      <td>2</td>\n",
       "      <td>2.9</td>\n",
       "      <td>170</td>\n",
       "      <td>Smiths</td>\n",
       "      <td>MIDAGE SINGLES/COUPLES</td>\n",
       "      <td>Budget</td>\n",
       "      <td>May</td>\n",
       "    </tr>\n",
       "  </tbody>\n",
       "</table>\n",
       "</div>"
      ],
      "text/plain": [
       "         DATE  STORE_NBR  LYLTY_CARD_NBR  TXN_ID  PROD_NBR  \\\n",
       "0  2018-10-17          1            1000       1         5   \n",
       "1  2019-05-14          1            1307     348        66   \n",
       "2  2018-11-10          1            1307     346        96   \n",
       "3  2019-03-09          1            1307     347        54   \n",
       "4  2019-05-20          1            1343     383        61   \n",
       "\n",
       "                                PROD_NAME  PROD_QTY  TOT_SALES  Pack_Size  \\\n",
       "0  Natural Chip        Compny SeaSalt175g         2        6.0        175   \n",
       "1                CCs Nacho Cheese    175g         3        6.3        175   \n",
       "2          WW Original Stacked Chips 160g         2        3.8        160   \n",
       "3                       CCs Original 175g         1        2.1        175   \n",
       "4  Smiths Crinkle Cut  Chips Chicken 170g         2        2.9        170   \n",
       "\n",
       "     BRAND               LIFESTAGE PREMIUM_CUSTOMER     MONTH  \n",
       "0  Natural   YOUNG SINGLES/COUPLES          Premium   October  \n",
       "1      CCs  MIDAGE SINGLES/COUPLES           Budget       May  \n",
       "2       WW  MIDAGE SINGLES/COUPLES           Budget  November  \n",
       "3      CCs  MIDAGE SINGLES/COUPLES           Budget     March  \n",
       "4   Smiths  MIDAGE SINGLES/COUPLES           Budget       May  "
      ]
     },
     "execution_count": 5,
     "metadata": {},
     "output_type": "execute_result"
    }
   ],
   "source": [
    "df['MONTH']= pd.to_datetime(df['DATE']).dt.month_name()\n",
    "df.head()"
   ]
  },
  {
   "cell_type": "markdown",
   "metadata": {},
   "source": [
    "## Select control stores\n",
    "The client has selected store numbers 77, 86 and 88 as trial stores and want\n",
    "control stores to be established stores that are operational for the entire\n",
    "observation period.\n"
   ]
  },
  {
   "cell_type": "markdown",
   "metadata": {},
   "source": [
    "Control Store"
   ]
  },
  {
   "cell_type": "code",
   "execution_count": 6,
   "metadata": {},
   "outputs": [
    {
     "data": {
      "text/html": [
       "<div>\n",
       "<style scoped>\n",
       "    .dataframe tbody tr th:only-of-type {\n",
       "        vertical-align: middle;\n",
       "    }\n",
       "\n",
       "    .dataframe tbody tr th {\n",
       "        vertical-align: top;\n",
       "    }\n",
       "\n",
       "    .dataframe thead th {\n",
       "        text-align: right;\n",
       "    }\n",
       "</style>\n",
       "<table border=\"1\" class=\"dataframe\">\n",
       "  <thead>\n",
       "    <tr style=\"text-align: right;\">\n",
       "      <th></th>\n",
       "      <th>DATE</th>\n",
       "      <th>STORE_NBR</th>\n",
       "      <th>LYLTY_CARD_NBR</th>\n",
       "      <th>TXN_ID</th>\n",
       "      <th>PROD_NBR</th>\n",
       "      <th>PROD_NAME</th>\n",
       "      <th>PROD_QTY</th>\n",
       "      <th>TOT_SALES</th>\n",
       "      <th>Pack_Size</th>\n",
       "      <th>BRAND</th>\n",
       "      <th>LIFESTAGE</th>\n",
       "      <th>PREMIUM_CUSTOMER</th>\n",
       "      <th>MONTH</th>\n",
       "    </tr>\n",
       "  </thead>\n",
       "  <tbody>\n",
       "    <tr>\n",
       "      <th>253</th>\n",
       "      <td>2019-05-20</td>\n",
       "      <td>88</td>\n",
       "      <td>88320</td>\n",
       "      <td>87811</td>\n",
       "      <td>113</td>\n",
       "      <td>Twisties Chicken270g</td>\n",
       "      <td>2</td>\n",
       "      <td>9.2</td>\n",
       "      <td>270</td>\n",
       "      <td>Twisties</td>\n",
       "      <td>MIDAGE SINGLES/COUPLES</td>\n",
       "      <td>Budget</td>\n",
       "      <td>May</td>\n",
       "    </tr>\n",
       "    <tr>\n",
       "      <th>254</th>\n",
       "      <td>2018-07-07</td>\n",
       "      <td>88</td>\n",
       "      <td>88320</td>\n",
       "      <td>87804</td>\n",
       "      <td>47</td>\n",
       "      <td>Doritos Corn Chips  Original 170g</td>\n",
       "      <td>2</td>\n",
       "      <td>8.8</td>\n",
       "      <td>170</td>\n",
       "      <td>Doritos</td>\n",
       "      <td>MIDAGE SINGLES/COUPLES</td>\n",
       "      <td>Budget</td>\n",
       "      <td>July</td>\n",
       "    </tr>\n",
       "    <tr>\n",
       "      <th>255</th>\n",
       "      <td>2018-07-16</td>\n",
       "      <td>88</td>\n",
       "      <td>88320</td>\n",
       "      <td>87805</td>\n",
       "      <td>9</td>\n",
       "      <td>Kettle Tortilla ChpsBtroot&amp;Ricotta 150g</td>\n",
       "      <td>2</td>\n",
       "      <td>9.2</td>\n",
       "      <td>150</td>\n",
       "      <td>Kettle</td>\n",
       "      <td>MIDAGE SINGLES/COUPLES</td>\n",
       "      <td>Budget</td>\n",
       "      <td>July</td>\n",
       "    </tr>\n",
       "    <tr>\n",
       "      <th>256</th>\n",
       "      <td>2018-09-29</td>\n",
       "      <td>88</td>\n",
       "      <td>88320</td>\n",
       "      <td>87807</td>\n",
       "      <td>74</td>\n",
       "      <td>Tostitos Splash Of  Lime 175g</td>\n",
       "      <td>2</td>\n",
       "      <td>8.8</td>\n",
       "      <td>175</td>\n",
       "      <td>Tostitos</td>\n",
       "      <td>MIDAGE SINGLES/COUPLES</td>\n",
       "      <td>Budget</td>\n",
       "      <td>September</td>\n",
       "    </tr>\n",
       "    <tr>\n",
       "      <th>257</th>\n",
       "      <td>2018-10-29</td>\n",
       "      <td>88</td>\n",
       "      <td>88320</td>\n",
       "      <td>87808</td>\n",
       "      <td>90</td>\n",
       "      <td>Tostitos Smoked     Chipotle 175g</td>\n",
       "      <td>2</td>\n",
       "      <td>8.8</td>\n",
       "      <td>175</td>\n",
       "      <td>Tostitos</td>\n",
       "      <td>MIDAGE SINGLES/COUPLES</td>\n",
       "      <td>Budget</td>\n",
       "      <td>October</td>\n",
       "    </tr>\n",
       "  </tbody>\n",
       "</table>\n",
       "</div>"
      ],
      "text/plain": [
       "           DATE  STORE_NBR  LYLTY_CARD_NBR  TXN_ID  PROD_NBR  \\\n",
       "253  2019-05-20         88           88320   87811       113   \n",
       "254  2018-07-07         88           88320   87804        47   \n",
       "255  2018-07-16         88           88320   87805         9   \n",
       "256  2018-09-29         88           88320   87807        74   \n",
       "257  2018-10-29         88           88320   87808        90   \n",
       "\n",
       "                                   PROD_NAME  PROD_QTY  TOT_SALES  Pack_Size  \\\n",
       "253                     Twisties Chicken270g         2        9.2        270   \n",
       "254        Doritos Corn Chips  Original 170g         2        8.8        170   \n",
       "255  Kettle Tortilla ChpsBtroot&Ricotta 150g         2        9.2        150   \n",
       "256            Tostitos Splash Of  Lime 175g         2        8.8        175   \n",
       "257        Tostitos Smoked     Chipotle 175g         2        8.8        175   \n",
       "\n",
       "        BRAND               LIFESTAGE PREMIUM_CUSTOMER      MONTH  \n",
       "253  Twisties  MIDAGE SINGLES/COUPLES           Budget        May  \n",
       "254   Doritos  MIDAGE SINGLES/COUPLES           Budget       July  \n",
       "255    Kettle  MIDAGE SINGLES/COUPLES           Budget       July  \n",
       "256  Tostitos  MIDAGE SINGLES/COUPLES           Budget  September  \n",
       "257  Tostitos  MIDAGE SINGLES/COUPLES           Budget    October  "
      ]
     },
     "execution_count": 6,
     "metadata": {},
     "output_type": "execute_result"
    }
   ],
   "source": [
    "option = [77,86,88]\n",
    "cstore = df[df['STORE_NBR'].isin(option)]\n",
    "cstore.head()"
   ]
  },
  {
   "cell_type": "markdown",
   "metadata": {},
   "source": [
    "We would want to match trial stores to control stores that are similar to the trial\n",
    "store prior to the trial period of Feb 2019 in terms of:\n",
    "- Monthly overall sales revenue\n",
    "- Monthly number of customers\n",
    "- Monthly number of transactions per customer\n"
   ]
  },
  {
   "cell_type": "markdown",
   "metadata": {},
   "source": [
    "This trial store"
   ]
  },
  {
   "cell_type": "code",
   "execution_count": 7,
   "metadata": {},
   "outputs": [
    {
     "data": {
      "text/html": [
       "<div>\n",
       "<style scoped>\n",
       "    .dataframe tbody tr th:only-of-type {\n",
       "        vertical-align: middle;\n",
       "    }\n",
       "\n",
       "    .dataframe tbody tr th {\n",
       "        vertical-align: top;\n",
       "    }\n",
       "\n",
       "    .dataframe thead th {\n",
       "        text-align: right;\n",
       "    }\n",
       "</style>\n",
       "<table border=\"1\" class=\"dataframe\">\n",
       "  <thead>\n",
       "    <tr style=\"text-align: right;\">\n",
       "      <th></th>\n",
       "      <th>DATE</th>\n",
       "      <th>STORE_NBR</th>\n",
       "      <th>LYLTY_CARD_NBR</th>\n",
       "      <th>TXN_ID</th>\n",
       "      <th>PROD_NBR</th>\n",
       "      <th>PROD_NAME</th>\n",
       "      <th>PROD_QTY</th>\n",
       "      <th>TOT_SALES</th>\n",
       "      <th>Pack_Size</th>\n",
       "      <th>BRAND</th>\n",
       "      <th>LIFESTAGE</th>\n",
       "      <th>PREMIUM_CUSTOMER</th>\n",
       "      <th>MONTH</th>\n",
       "    </tr>\n",
       "  </thead>\n",
       "  <tbody>\n",
       "    <tr>\n",
       "      <th>254</th>\n",
       "      <td>2018-07-07</td>\n",
       "      <td>88</td>\n",
       "      <td>88320</td>\n",
       "      <td>87804</td>\n",
       "      <td>47</td>\n",
       "      <td>Doritos Corn Chips  Original 170g</td>\n",
       "      <td>2</td>\n",
       "      <td>8.8</td>\n",
       "      <td>170</td>\n",
       "      <td>Doritos</td>\n",
       "      <td>MIDAGE SINGLES/COUPLES</td>\n",
       "      <td>Budget</td>\n",
       "      <td>July</td>\n",
       "    </tr>\n",
       "    <tr>\n",
       "      <th>255</th>\n",
       "      <td>2018-07-16</td>\n",
       "      <td>88</td>\n",
       "      <td>88320</td>\n",
       "      <td>87805</td>\n",
       "      <td>9</td>\n",
       "      <td>Kettle Tortilla ChpsBtroot&amp;Ricotta 150g</td>\n",
       "      <td>2</td>\n",
       "      <td>9.2</td>\n",
       "      <td>150</td>\n",
       "      <td>Kettle</td>\n",
       "      <td>MIDAGE SINGLES/COUPLES</td>\n",
       "      <td>Budget</td>\n",
       "      <td>July</td>\n",
       "    </tr>\n",
       "    <tr>\n",
       "      <th>256</th>\n",
       "      <td>2018-09-29</td>\n",
       "      <td>88</td>\n",
       "      <td>88320</td>\n",
       "      <td>87807</td>\n",
       "      <td>74</td>\n",
       "      <td>Tostitos Splash Of  Lime 175g</td>\n",
       "      <td>2</td>\n",
       "      <td>8.8</td>\n",
       "      <td>175</td>\n",
       "      <td>Tostitos</td>\n",
       "      <td>MIDAGE SINGLES/COUPLES</td>\n",
       "      <td>Budget</td>\n",
       "      <td>September</td>\n",
       "    </tr>\n",
       "    <tr>\n",
       "      <th>257</th>\n",
       "      <td>2018-10-29</td>\n",
       "      <td>88</td>\n",
       "      <td>88320</td>\n",
       "      <td>87808</td>\n",
       "      <td>90</td>\n",
       "      <td>Tostitos Smoked     Chipotle 175g</td>\n",
       "      <td>2</td>\n",
       "      <td>8.8</td>\n",
       "      <td>175</td>\n",
       "      <td>Tostitos</td>\n",
       "      <td>MIDAGE SINGLES/COUPLES</td>\n",
       "      <td>Budget</td>\n",
       "      <td>October</td>\n",
       "    </tr>\n",
       "    <tr>\n",
       "      <th>1775</th>\n",
       "      <td>2018-09-26</td>\n",
       "      <td>77</td>\n",
       "      <td>77000</td>\n",
       "      <td>74910</td>\n",
       "      <td>36</td>\n",
       "      <td>Kettle Chilli 175g</td>\n",
       "      <td>2</td>\n",
       "      <td>10.8</td>\n",
       "      <td>175</td>\n",
       "      <td>Kettle</td>\n",
       "      <td>MIDAGE SINGLES/COUPLES</td>\n",
       "      <td>Budget</td>\n",
       "      <td>September</td>\n",
       "    </tr>\n",
       "  </tbody>\n",
       "</table>\n",
       "</div>"
      ],
      "text/plain": [
       "           DATE  STORE_NBR  LYLTY_CARD_NBR  TXN_ID  PROD_NBR  \\\n",
       "254  2018-07-07         88           88320   87804        47   \n",
       "255  2018-07-16         88           88320   87805         9   \n",
       "256  2018-09-29         88           88320   87807        74   \n",
       "257  2018-10-29         88           88320   87808        90   \n",
       "1775 2018-09-26         77           77000   74910        36   \n",
       "\n",
       "                                    PROD_NAME  PROD_QTY  TOT_SALES  Pack_Size  \\\n",
       "254         Doritos Corn Chips  Original 170g         2        8.8        170   \n",
       "255   Kettle Tortilla ChpsBtroot&Ricotta 150g         2        9.2        150   \n",
       "256             Tostitos Splash Of  Lime 175g         2        8.8        175   \n",
       "257         Tostitos Smoked     Chipotle 175g         2        8.8        175   \n",
       "1775                       Kettle Chilli 175g         2       10.8        175   \n",
       "\n",
       "         BRAND               LIFESTAGE PREMIUM_CUSTOMER      MONTH  \n",
       "254    Doritos  MIDAGE SINGLES/COUPLES           Budget       July  \n",
       "255     Kettle  MIDAGE SINGLES/COUPLES           Budget       July  \n",
       "256   Tostitos  MIDAGE SINGLES/COUPLES           Budget  September  \n",
       "257   Tostitos  MIDAGE SINGLES/COUPLES           Budget    October  \n",
       "1775    Kettle  MIDAGE SINGLES/COUPLES           Budget  September  "
      ]
     },
     "execution_count": 7,
     "metadata": {},
     "output_type": "execute_result"
    }
   ],
   "source": [
    "cstore['DATE'] = pd.to_datetime(cstore['DATE'],format='%Y-%m-%d')\n",
    "tstore = cstore.loc[(cstore['DATE'] <'2019-01-31')]\n",
    "tstore.head()"
   ]
  },
  {
   "cell_type": "markdown",
   "metadata": {},
   "source": [
    "We need to filter the pre-trial period before 2019-02"
   ]
  },
  {
   "cell_type": "markdown",
   "metadata": {},
   "source": [
    "For each store and month calculate total sales, number of customers,\n",
    "transactions per customer, chips per customer and the average price per unit."
   ]
  },
  {
   "cell_type": "code",
   "execution_count": 8,
   "metadata": {},
   "outputs": [
    {
     "data": {
      "image/png": "[encoded data removed]",
      "text/plain": [
       "<Figure size 720x360 with 1 Axes>"
      ]
     },
     "metadata": {
      "needs_background": "light"
     },
     "output_type": "display_data"
    }
   ],
   "source": [
    "# We define each store monthly sales by tm\n",
    "tm = tstore[['STORE_NBR','MONTH','TOT_SALES']]\n",
    "tmg= tm.groupby(['MONTH','STORE_NBR'], as_index=False).sum()\n",
    "tmp = tmg.pivot(index='MONTH',columns='STORE_NBR')\n",
    "ko = tmp.plot.line(figsize=(10, 5))\n",
    "ko.set(ylabel='Total Sales',title='Total Sales for each Store and Month')\n",
    "plt.show()\n"
   ]
  },
  {
   "cell_type": "code",
   "execution_count": 9,
   "metadata": {},
   "outputs": [
    {
     "name": "stdout",
     "output_type": "stream",
     "text": [
      "Store 77 has total number of 297\n",
      "Store 86 has total number of 828\n",
      "Store 88 has total number of 1027\n"
     ]
    },
    {
     "data": {
      "image/png": "[encoded data removed]",
      "text/plain": [
       "<Figure size 432x288 with 1 Axes>"
      ]
     },
     "metadata": {
      "needs_background": "light"
     },
     "output_type": "display_data"
    }
   ],
   "source": [
    "# We are finding our total customer by each store\n",
    "tm = tstore['STORE_NBR']\n",
    "tp= pd.Categorical(tm).value_counts()\n",
    "tp.plot(kind='bar')\n",
    "plt.xlabel('Store')\n",
    "def ite(val):\n",
    "    for key, value in val.items():\n",
    "        print('Store', key, 'has total number of', value)\n",
    "ite(tp)\n"
   ]
  },
  {
   "cell_type": "code",
   "execution_count": 10,
   "metadata": {},
   "outputs": [
    {
     "data": {
      "text/plain": [
       "2152"
      ]
     },
     "execution_count": 10,
     "metadata": {},
     "output_type": "execute_result"
    }
   ],
   "source": [
    "# transaction per customer\n",
    "tc = pd.Categorical(tstore['TXN_ID'])\n",
    "tc.value_counts().sum()\n",
    "# The total transaction per customer is 2152"
   ]
  },
  {
   "cell_type": "code",
   "execution_count": 11,
   "metadata": {},
   "outputs": [
    {
     "name": "stdout",
     "output_type": "stream",
     "text": [
      "BRAND     \n",
      "Kettle        410\n",
      "Pringles      222\n",
      "Smiths        195\n",
      "Doritos       180\n",
      "Thins         142\n",
      "RRD           117\n",
      "Cobs           96\n",
      "Infuzions      93\n",
      "Tostitos       92\n",
      "Twisties       89\n",
      "WW             81\n",
      "Tyrrells       66\n",
      "Natural        55\n",
      "Grain          54\n",
      "Infzns         46\n",
      "Cheezels       38\n",
      "CCs            32\n",
      "Smith          26\n",
      "Dorito         25\n",
      "Cheetos        23\n",
      "French         15\n",
      "Snbts          11\n",
      "Burger         11\n",
      "Woolworths     10\n",
      "Sunbites       10\n",
      "GrnWves         8\n",
      "NCC             5\n",
      "dtype: int64\n"
     ]
    },
    {
     "data": {
      "image/png": "[encoded data removed]",
      "text/plain": [
       "<Figure size 720x720 with 1 Axes>"
      ]
     },
     "metadata": {
      "needs_background": "light"
     },
     "output_type": "display_data"
    }
   ],
   "source": [
    "# chips per transaction\n",
    "ii = tstore[['TXN_ID','BRAND']]\n",
    "ii=ii.set_index('TXN_ID')\n",
    "ik= ii.value_counts()\n",
    "ik.plot(kind='barh', figsize=(10, 10))\n",
    "print(ik)"
   ]
  },
  {
   "cell_type": "code",
   "execution_count": 12,
   "metadata": {},
   "outputs": [
    {
     "name": "stdout",
     "output_type": "stream",
     "text": [
      "   PROD_QTY  TOT_SALES\n",
      "0         1   3.713243\n",
      "1         2   7.848239\n",
      "2         3  11.550000\n",
      "3         4  20.200000\n",
      "4         5  15.250000\n"
     ]
    },
    {
     "data": {
      "image/png": "[encoded data removed]",
      "text/plain": [
       "<Figure size 432x288 with 1 Axes>"
      ]
     },
     "metadata": {
      "needs_background": "light"
     },
     "output_type": "display_data"
    }
   ],
   "source": [
    "# Average price per transaction by order\n",
    "avpg = tstore[['PROD_QTY','TOT_SALES']]\n",
    "avgp = avpg.groupby(['PROD_QTY'], as_index=False).mean()\n",
    "avgp.plot(kind='bar')\n",
    "print(avgp)"
   ]
  },
  {
   "cell_type": "markdown",
   "metadata": {},
   "source": [
    "Finding the correlation between control store (cstore) and trial store (tstore)\n",
    "- we will be measuring their correlation based on their Total Sales, Production  Quantiity"
   ]
  },
  {
   "cell_type": "code",
   "execution_count": 13,
   "metadata": {},
   "outputs": [
    {
     "name": "stdout",
     "output_type": "stream",
     "text": [
      "               Control Store  Trial Store\n",
      "Control Store            1.0          1.0\n",
      "Trial Store              1.0          1.0\n"
     ]
    },
    {
     "data": {
      "text/plain": [
       "<AxesSubplot:>"
      ]
     },
     "execution_count": 13,
     "metadata": {},
     "output_type": "execute_result"
    },
    {
     "data": {
      "image/png": "[encoded data removed]",
      "text/plain": [
       "<Figure size 432x288 with 2 Axes>"
      ]
     },
     "metadata": {
      "needs_background": "light"
     },
     "output_type": "display_data"
    }
   ],
   "source": [
    "# Let shape control store(cstore) to the measure of our trial store\n",
    "ca = cstore[:2152]\n",
    "# let create metrics of correlation by their total sales\n",
    "kc = pd.DataFrame()\n",
    "kc['Control Store'] = ca['TOT_SALES']\n",
    "kc['Trial Store'] = tstore['TOT_SALES']\n",
    "kk= kc.corr()\n",
    "print(kk)\n",
    "\n",
    "sns.heatmap(kk,annot=True)"
   ]
  },
  {
   "cell_type": "code",
   "execution_count": 14,
   "metadata": {},
   "outputs": [
    {
     "name": "stdout",
     "output_type": "stream",
     "text": [
      "               Control Store  Trial Store\n",
      "Control Store            1.0          1.0\n",
      "Trial Store              1.0          1.0\n"
     ]
    },
    {
     "data": {
      "text/plain": [
       "<AxesSubplot:>"
      ]
     },
     "execution_count": 14,
     "metadata": {},
     "output_type": "execute_result"
    },
    {
     "data": {
      "image/png": "[encoded data removed]",
      "text/plain": [
       "<Figure size 432x288 with 2 Axes>"
      ]
     },
     "metadata": {
      "needs_background": "light"
     },
     "output_type": "display_data"
    }
   ],
   "source": [
    "# Let measure it by production\n",
    "pq = pd.DataFrame()\n",
    "pq['Control Store'] = ca['PROD_QTY']\n",
    "pq['Trial Store'] = tstore['PROD_QTY']\n",
    "pp = kc.corr()\n",
    "print(pp)\n",
    "\n",
    "sns.heatmap(pp,annot=True)"
   ]
  },
  {
   "cell_type": "markdown",
   "metadata": {},
   "source": [
    "We are calculating control stores based on how similar monthly total sales in dollar amounts and monthly number of customers are to the trial stores.\n",
    "- So we will need to use our functions to get four scores, two for each of total sales and total customers."
   ]
  },
  {
   "cell_type": "markdown",
   "metadata": {},
   "source": [
    "Calculating correlations against\n",
    "store 77 using total sales and number of customers."
   ]
  },
  {
   "cell_type": "code",
   "execution_count": 15,
   "metadata": {},
   "outputs": [
    {
     "data": {
      "text/html": [
       "<div>\n",
       "<style scoped>\n",
       "    .dataframe tbody tr th:only-of-type {\n",
       "        vertical-align: middle;\n",
       "    }\n",
       "\n",
       "    .dataframe tbody tr th {\n",
       "        vertical-align: top;\n",
       "    }\n",
       "\n",
       "    .dataframe thead th {\n",
       "        text-align: right;\n",
       "    }\n",
       "</style>\n",
       "<table border=\"1\" class=\"dataframe\">\n",
       "  <thead>\n",
       "    <tr style=\"text-align: right;\">\n",
       "      <th></th>\n",
       "      <th>DATE</th>\n",
       "      <th>STORE_NBR</th>\n",
       "      <th>LYLTY_CARD_NBR</th>\n",
       "      <th>TXN_ID</th>\n",
       "      <th>PROD_NBR</th>\n",
       "      <th>PROD_NAME</th>\n",
       "      <th>PROD_QTY</th>\n",
       "      <th>TOT_SALES</th>\n",
       "      <th>Pack_Size</th>\n",
       "      <th>BRAND</th>\n",
       "      <th>LIFESTAGE</th>\n",
       "      <th>PREMIUM_CUSTOMER</th>\n",
       "      <th>MONTH</th>\n",
       "    </tr>\n",
       "  </thead>\n",
       "  <tbody>\n",
       "    <tr>\n",
       "      <th>767</th>\n",
       "      <td>2019-06-17</td>\n",
       "      <td>77</td>\n",
       "      <td>77069</td>\n",
       "      <td>74987</td>\n",
       "      <td>70</td>\n",
       "      <td>Tyrrells Crisps     Lightly Salted 165g</td>\n",
       "      <td>2</td>\n",
       "      <td>8.4</td>\n",
       "      <td>165</td>\n",
       "      <td>Tyrrells</td>\n",
       "      <td>MIDAGE SINGLES/COUPLES</td>\n",
       "      <td>Budget</td>\n",
       "      <td>June</td>\n",
       "    </tr>\n",
       "    <tr>\n",
       "      <th>768</th>\n",
       "      <td>2019-02-20</td>\n",
       "      <td>77</td>\n",
       "      <td>77069</td>\n",
       "      <td>74985</td>\n",
       "      <td>98</td>\n",
       "      <td>NCC Sour Cream &amp;    Garden Chives 175g</td>\n",
       "      <td>2</td>\n",
       "      <td>6.0</td>\n",
       "      <td>175</td>\n",
       "      <td>NCC</td>\n",
       "      <td>MIDAGE SINGLES/COUPLES</td>\n",
       "      <td>Budget</td>\n",
       "      <td>February</td>\n",
       "    </tr>\n",
       "    <tr>\n",
       "      <th>769</th>\n",
       "      <td>2019-03-08</td>\n",
       "      <td>77</td>\n",
       "      <td>77069</td>\n",
       "      <td>74986</td>\n",
       "      <td>8</td>\n",
       "      <td>Smiths Crinkle Cut  Chips Original 170g</td>\n",
       "      <td>2</td>\n",
       "      <td>5.8</td>\n",
       "      <td>170</td>\n",
       "      <td>Smiths</td>\n",
       "      <td>MIDAGE SINGLES/COUPLES</td>\n",
       "      <td>Budget</td>\n",
       "      <td>March</td>\n",
       "    </tr>\n",
       "    <tr>\n",
       "      <th>1773</th>\n",
       "      <td>2019-03-28</td>\n",
       "      <td>77</td>\n",
       "      <td>77000</td>\n",
       "      <td>74911</td>\n",
       "      <td>18</td>\n",
       "      <td>Cheetos Chs &amp; Bacon Balls 190g</td>\n",
       "      <td>1</td>\n",
       "      <td>3.3</td>\n",
       "      <td>190</td>\n",
       "      <td>Cheetos</td>\n",
       "      <td>MIDAGE SINGLES/COUPLES</td>\n",
       "      <td>Budget</td>\n",
       "      <td>March</td>\n",
       "    </tr>\n",
       "    <tr>\n",
       "      <th>1774</th>\n",
       "      <td>2019-04-13</td>\n",
       "      <td>77</td>\n",
       "      <td>77000</td>\n",
       "      <td>74912</td>\n",
       "      <td>69</td>\n",
       "      <td>Smiths Chip Thinly  S/Cream&amp;Onion 175g</td>\n",
       "      <td>1</td>\n",
       "      <td>3.0</td>\n",
       "      <td>175</td>\n",
       "      <td>Smiths</td>\n",
       "      <td>MIDAGE SINGLES/COUPLES</td>\n",
       "      <td>Budget</td>\n",
       "      <td>April</td>\n",
       "    </tr>\n",
       "  </tbody>\n",
       "</table>\n",
       "</div>"
      ],
      "text/plain": [
       "           DATE  STORE_NBR  LYLTY_CARD_NBR  TXN_ID  PROD_NBR  \\\n",
       "767  2019-06-17         77           77069   74987        70   \n",
       "768  2019-02-20         77           77069   74985        98   \n",
       "769  2019-03-08         77           77069   74986         8   \n",
       "1773 2019-03-28         77           77000   74911        18   \n",
       "1774 2019-04-13         77           77000   74912        69   \n",
       "\n",
       "                                    PROD_NAME  PROD_QTY  TOT_SALES  Pack_Size  \\\n",
       "767   Tyrrells Crisps     Lightly Salted 165g         2        8.4        165   \n",
       "768    NCC Sour Cream &    Garden Chives 175g         2        6.0        175   \n",
       "769   Smiths Crinkle Cut  Chips Original 170g         2        5.8        170   \n",
       "1773           Cheetos Chs & Bacon Balls 190g         1        3.3        190   \n",
       "1774   Smiths Chip Thinly  S/Cream&Onion 175g         1        3.0        175   \n",
       "\n",
       "         BRAND               LIFESTAGE PREMIUM_CUSTOMER     MONTH  \n",
       "767   Tyrrells  MIDAGE SINGLES/COUPLES           Budget      June  \n",
       "768        NCC  MIDAGE SINGLES/COUPLES           Budget  February  \n",
       "769     Smiths  MIDAGE SINGLES/COUPLES           Budget     March  \n",
       "1773   Cheetos  MIDAGE SINGLES/COUPLES           Budget     March  \n",
       "1774    Smiths  MIDAGE SINGLES/COUPLES           Budget     April  "
      ]
     },
     "execution_count": 15,
     "metadata": {},
     "output_type": "execute_result"
    }
   ],
   "source": [
    "store77 = cstore[cstore['STORE_NBR']==77]\n",
    "store77.head()\n",
    "\n"
   ]
  },
  {
   "cell_type": "markdown",
   "metadata": {},
   "source": [
    "Calculating Corrlation in store 77 between total sales and number of customers to trial store"
   ]
  },
  {
   "cell_type": "code",
   "execution_count": 70,
   "metadata": {},
   "outputs": [
    {
     "name": "stdout",
     "output_type": "stream",
     "text": [
      "           TOT_SALES\n",
      "MONTH               \n",
      "June             8.4\n",
      "February         6.0\n",
      "March            5.8\n",
      "March            3.3\n",
      "April            3.0\n",
      "...              ...\n",
      "July             3.8\n",
      "July             5.2\n",
      "November         4.2\n",
      "September        3.8\n",
      "November         3.8\n",
      "\n",
      "[529 rows x 1 columns]\n",
      "We can see we have high sales between june and February\n"
     ]
    },
    {
     "data": {
      "text/plain": [
       "<AxesSubplot:xlabel='MONTH'>"
      ]
     },
     "execution_count": 70,
     "metadata": {},
     "output_type": "execute_result"
    },
    {
     "data": {
      "image/png": "[encoded data removed]",
      "text/plain": [
       "<Figure size 432x288 with 1 Axes>"
      ]
     },
     "metadata": {
      "needs_background": "light"
     },
     "output_type": "display_data"
    }
   ],
   "source": [
    "tm = store77[['MONTH','TOT_SALES']]\n",
    "t1 = tm.set_index('MONTH')\n",
    "print(t1)\n",
    "print('We can see we have high sales between june and February')\n",
    "t1.plot()"
   ]
  },
  {
   "cell_type": "code",
   "execution_count": 71,
   "metadata": {},
   "outputs": [
    {
     "data": {
      "text/plain": [
       "F_onewayResult(statistic=3.7711770964724836, pvalue=0.05580049145687446)"
      ]
     },
     "execution_count": 71,
     "metadata": {},
     "output_type": "execute_result"
    }
   ],
   "source": [
    "import scipy.stats as stats\n",
    "# Let use anova to calculate the differenc\n",
    "ano = stats.f_oneway(tm['TOT_SALES'][tm['MONTH']=='June'],tm['TOT_SALES'][tm['MONTH']=='February'])\n",
    "ano"
   ]
  },
  {
   "cell_type": "markdown",
   "metadata": {},
   "source": [
    "- Result of the analysis indicated that that there is statistical differnce between total sales in June and February\n",
    "- Where F=3.77 and pvalue = 0.56"
   ]
  },
  {
   "cell_type": "markdown",
   "metadata": {},
   "source": [
    "# Let check for brands they are purchasing the most both control store and trial store"
   ]
  },
  {
   "cell_type": "code",
   "execution_count": null,
   "metadata": {},
   "outputs": [
    {
     "name": "stdout",
     "output_type": "stream",
     "text": [
      "The most selling brand is kettle chips\n"
     ]
    },
    {
     "data": {
      "image/png": "[encoded data removed]",
      "text/plain": [
       "<Figure size 432x288 with 1 Axes>"
      ]
     },
     "metadata": {
      "needs_background": "light"
     },
     "output_type": "display_data"
    }
   ],
   "source": [
    "# Let check for brands they are purchasing the most in trial store\n",
    "tstore['BRAND'].value_counts().plot(kind='bar')\n",
    "print('The most selling brand is kettle chips')"
   ]
  },
  {
   "cell_type": "code",
   "execution_count": null,
   "metadata": {},
   "outputs": [
    {
     "data": {
      "text/plain": [
       "<AxesSubplot:>"
      ]
     },
     "execution_count": 62,
     "metadata": {},
     "output_type": "execute_result"
    },
    {
     "data": {
      "image/png": "[encoded data removed]",
      "text/plain": [
       "<Figure size 432x288 with 1 Axes>"
      ]
     },
     "metadata": {
      "needs_background": "light"
     },
     "output_type": "display_data"
    }
   ],
   "source": [
    "ca['BRAND'].value_counts().plot(kind='bar')\n"
   ]
  },
  {
   "cell_type": "markdown",
   "metadata": {},
   "source": [
    "Let find the difference between brands and their effect on price"
   ]
  },
  {
   "cell_type": "markdown",
   "metadata": {},
   "source": [
    "let check relationship between these two store"
   ]
  },
  {
   "cell_type": "code",
   "execution_count": 73,
   "metadata": {},
   "outputs": [
    {
     "data": {
      "text/plain": [
       "F_onewayResult(statistic=0.045816476258425776, pvalue=0.8305632269795589)"
      ]
     },
     "execution_count": 73,
     "metadata": {},
     "output_type": "execute_result"
    }
   ],
   "source": [
    "jj = stats.f_oneway(tstore['TOT_SALES'][tstore['BRAND'] ==\n",
    "                    'Kettle'], ca['TOT_SALES'][ca['BRAND'] == 'Kettle'])\n",
    "jj\n"
   ]
  },
  {
   "cell_type": "markdown",
   "metadata": {},
   "source": [
    "We can see from the result that there is no difference between the groups since p>0.05"
   ]
  },
  {
   "cell_type": "code",
   "execution_count": 79,
   "metadata": {},
   "outputs": [
    {
     "data": {
      "text/html": [
       "<div>\n",
       "<style scoped>\n",
       "    .dataframe tbody tr th:only-of-type {\n",
       "        vertical-align: middle;\n",
       "    }\n",
       "\n",
       "    .dataframe tbody tr th {\n",
       "        vertical-align: top;\n",
       "    }\n",
       "\n",
       "    .dataframe thead th {\n",
       "        text-align: right;\n",
       "    }\n",
       "</style>\n",
       "<table border=\"1\" class=\"dataframe\">\n",
       "  <thead>\n",
       "    <tr style=\"text-align: right;\">\n",
       "      <th></th>\n",
       "      <th>DATE</th>\n",
       "      <th>STORE_NBR</th>\n",
       "      <th>LYLTY_CARD_NBR</th>\n",
       "      <th>TXN_ID</th>\n",
       "      <th>PROD_NBR</th>\n",
       "      <th>PROD_NAME</th>\n",
       "      <th>PROD_QTY</th>\n",
       "      <th>TOT_SALES</th>\n",
       "      <th>Pack_Size</th>\n",
       "      <th>BRAND</th>\n",
       "      <th>LIFESTAGE</th>\n",
       "      <th>PREMIUM_CUSTOMER</th>\n",
       "      <th>MONTH</th>\n",
       "    </tr>\n",
       "  </thead>\n",
       "  <tbody>\n",
       "    <tr>\n",
       "      <th>254</th>\n",
       "      <td>2018-07-07</td>\n",
       "      <td>88</td>\n",
       "      <td>88320</td>\n",
       "      <td>87804</td>\n",
       "      <td>47</td>\n",
       "      <td>Doritos Corn Chips  Original 170g</td>\n",
       "      <td>2</td>\n",
       "      <td>8.8</td>\n",
       "      <td>170</td>\n",
       "      <td>Doritos</td>\n",
       "      <td>MIDAGE SINGLES/COUPLES</td>\n",
       "      <td>Budget</td>\n",
       "      <td>July</td>\n",
       "    </tr>\n",
       "    <tr>\n",
       "      <th>255</th>\n",
       "      <td>2018-07-16</td>\n",
       "      <td>88</td>\n",
       "      <td>88320</td>\n",
       "      <td>87805</td>\n",
       "      <td>9</td>\n",
       "      <td>Kettle Tortilla ChpsBtroot&amp;Ricotta 150g</td>\n",
       "      <td>2</td>\n",
       "      <td>9.2</td>\n",
       "      <td>150</td>\n",
       "      <td>Kettle</td>\n",
       "      <td>MIDAGE SINGLES/COUPLES</td>\n",
       "      <td>Budget</td>\n",
       "      <td>July</td>\n",
       "    </tr>\n",
       "    <tr>\n",
       "      <th>256</th>\n",
       "      <td>2018-09-29</td>\n",
       "      <td>88</td>\n",
       "      <td>88320</td>\n",
       "      <td>87807</td>\n",
       "      <td>74</td>\n",
       "      <td>Tostitos Splash Of  Lime 175g</td>\n",
       "      <td>2</td>\n",
       "      <td>8.8</td>\n",
       "      <td>175</td>\n",
       "      <td>Tostitos</td>\n",
       "      <td>MIDAGE SINGLES/COUPLES</td>\n",
       "      <td>Budget</td>\n",
       "      <td>September</td>\n",
       "    </tr>\n",
       "    <tr>\n",
       "      <th>257</th>\n",
       "      <td>2018-10-29</td>\n",
       "      <td>88</td>\n",
       "      <td>88320</td>\n",
       "      <td>87808</td>\n",
       "      <td>90</td>\n",
       "      <td>Tostitos Smoked     Chipotle 175g</td>\n",
       "      <td>2</td>\n",
       "      <td>8.8</td>\n",
       "      <td>175</td>\n",
       "      <td>Tostitos</td>\n",
       "      <td>MIDAGE SINGLES/COUPLES</td>\n",
       "      <td>Budget</td>\n",
       "      <td>October</td>\n",
       "    </tr>\n",
       "    <tr>\n",
       "      <th>1775</th>\n",
       "      <td>2018-09-26</td>\n",
       "      <td>77</td>\n",
       "      <td>77000</td>\n",
       "      <td>74910</td>\n",
       "      <td>36</td>\n",
       "      <td>Kettle Chilli 175g</td>\n",
       "      <td>2</td>\n",
       "      <td>10.8</td>\n",
       "      <td>175</td>\n",
       "      <td>Kettle</td>\n",
       "      <td>MIDAGE SINGLES/COUPLES</td>\n",
       "      <td>Budget</td>\n",
       "      <td>September</td>\n",
       "    </tr>\n",
       "  </tbody>\n",
       "</table>\n",
       "</div>"
      ],
      "text/plain": [
       "           DATE  STORE_NBR  LYLTY_CARD_NBR  TXN_ID  PROD_NBR  \\\n",
       "254  2018-07-07         88           88320   87804        47   \n",
       "255  2018-07-16         88           88320   87805         9   \n",
       "256  2018-09-29         88           88320   87807        74   \n",
       "257  2018-10-29         88           88320   87808        90   \n",
       "1775 2018-09-26         77           77000   74910        36   \n",
       "\n",
       "                                    PROD_NAME  PROD_QTY  TOT_SALES  Pack_Size  \\\n",
       "254         Doritos Corn Chips  Original 170g         2        8.8        170   \n",
       "255   Kettle Tortilla ChpsBtroot&Ricotta 150g         2        9.2        150   \n",
       "256             Tostitos Splash Of  Lime 175g         2        8.8        175   \n",
       "257         Tostitos Smoked     Chipotle 175g         2        8.8        175   \n",
       "1775                       Kettle Chilli 175g         2       10.8        175   \n",
       "\n",
       "         BRAND               LIFESTAGE PREMIUM_CUSTOMER      MONTH  \n",
       "254    Doritos  MIDAGE SINGLES/COUPLES           Budget       July  \n",
       "255     Kettle  MIDAGE SINGLES/COUPLES           Budget       July  \n",
       "256   Tostitos  MIDAGE SINGLES/COUPLES           Budget  September  \n",
       "257   Tostitos  MIDAGE SINGLES/COUPLES           Budget    October  \n",
       "1775    Kettle  MIDAGE SINGLES/COUPLES           Budget  September  "
      ]
     },
     "execution_count": 79,
     "metadata": {},
     "output_type": "execute_result"
    }
   ],
   "source": [
    "tstore.head()"
   ]
  },
  {
   "cell_type": "markdown",
   "metadata": {},
   "source": [
    "# Let find correlation between each variable in each store"
   ]
  },
  {
   "cell_type": "code",
   "execution_count": 77,
   "metadata": {},
   "outputs": [
    {
     "data": {
      "text/html": [
       "<div>\n",
       "<style scoped>\n",
       "    .dataframe tbody tr th:only-of-type {\n",
       "        vertical-align: middle;\n",
       "    }\n",
       "\n",
       "    .dataframe tbody tr th {\n",
       "        vertical-align: top;\n",
       "    }\n",
       "\n",
       "    .dataframe thead th {\n",
       "        text-align: right;\n",
       "    }\n",
       "</style>\n",
       "<table border=\"1\" class=\"dataframe\">\n",
       "  <thead>\n",
       "    <tr style=\"text-align: right;\">\n",
       "      <th></th>\n",
       "      <th>STORE_NBR</th>\n",
       "      <th>LYLTY_CARD_NBR</th>\n",
       "      <th>TXN_ID</th>\n",
       "      <th>PROD_NBR</th>\n",
       "      <th>PROD_QTY</th>\n",
       "      <th>TOT_SALES</th>\n",
       "      <th>Pack_Size</th>\n",
       "    </tr>\n",
       "  </thead>\n",
       "  <tbody>\n",
       "    <tr>\n",
       "      <th>STORE_NBR</th>\n",
       "      <td>1.000000</td>\n",
       "      <td>-0.104941</td>\n",
       "      <td>0.063506</td>\n",
       "      <td>-0.037314</td>\n",
       "      <td>0.468720</td>\n",
       "      <td>0.439504</td>\n",
       "      <td>0.015014</td>\n",
       "    </tr>\n",
       "    <tr>\n",
       "      <th>LYLTY_CARD_NBR</th>\n",
       "      <td>-0.104941</td>\n",
       "      <td>1.000000</td>\n",
       "      <td>0.347484</td>\n",
       "      <td>-0.002195</td>\n",
       "      <td>-0.063127</td>\n",
       "      <td>-0.016536</td>\n",
       "      <td>0.017000</td>\n",
       "    </tr>\n",
       "    <tr>\n",
       "      <th>TXN_ID</th>\n",
       "      <td>0.063506</td>\n",
       "      <td>0.347484</td>\n",
       "      <td>1.000000</td>\n",
       "      <td>0.019358</td>\n",
       "      <td>0.024856</td>\n",
       "      <td>0.051542</td>\n",
       "      <td>0.006463</td>\n",
       "    </tr>\n",
       "    <tr>\n",
       "      <th>PROD_NBR</th>\n",
       "      <td>-0.037314</td>\n",
       "      <td>-0.002195</td>\n",
       "      <td>0.019358</td>\n",
       "      <td>1.000000</td>\n",
       "      <td>-0.026304</td>\n",
       "      <td>-0.175700</td>\n",
       "      <td>-0.256321</td>\n",
       "    </tr>\n",
       "    <tr>\n",
       "      <th>PROD_QTY</th>\n",
       "      <td>0.468720</td>\n",
       "      <td>-0.063127</td>\n",
       "      <td>0.024856</td>\n",
       "      <td>-0.026304</td>\n",
       "      <td>1.000000</td>\n",
       "      <td>0.519530</td>\n",
       "      <td>-0.031392</td>\n",
       "    </tr>\n",
       "    <tr>\n",
       "      <th>TOT_SALES</th>\n",
       "      <td>0.439504</td>\n",
       "      <td>-0.016536</td>\n",
       "      <td>0.051542</td>\n",
       "      <td>-0.175700</td>\n",
       "      <td>0.519530</td>\n",
       "      <td>1.000000</td>\n",
       "      <td>0.409913</td>\n",
       "    </tr>\n",
       "    <tr>\n",
       "      <th>Pack_Size</th>\n",
       "      <td>0.015014</td>\n",
       "      <td>0.017000</td>\n",
       "      <td>0.006463</td>\n",
       "      <td>-0.256321</td>\n",
       "      <td>-0.031392</td>\n",
       "      <td>0.409913</td>\n",
       "      <td>1.000000</td>\n",
       "    </tr>\n",
       "  </tbody>\n",
       "</table>\n",
       "</div>"
      ],
      "text/plain": [
       "                STORE_NBR  LYLTY_CARD_NBR    TXN_ID  PROD_NBR  PROD_QTY  \\\n",
       "STORE_NBR        1.000000       -0.104941  0.063506 -0.037314  0.468720   \n",
       "LYLTY_CARD_NBR  -0.104941        1.000000  0.347484 -0.002195 -0.063127   \n",
       "TXN_ID           0.063506        0.347484  1.000000  0.019358  0.024856   \n",
       "PROD_NBR        -0.037314       -0.002195  0.019358  1.000000 -0.026304   \n",
       "PROD_QTY         0.468720       -0.063127  0.024856 -0.026304  1.000000   \n",
       "TOT_SALES        0.439504       -0.016536  0.051542 -0.175700  0.519530   \n",
       "Pack_Size        0.015014        0.017000  0.006463 -0.256321 -0.031392   \n",
       "\n",
       "                TOT_SALES  Pack_Size  \n",
       "STORE_NBR        0.439504   0.015014  \n",
       "LYLTY_CARD_NBR  -0.016536   0.017000  \n",
       "TXN_ID           0.051542   0.006463  \n",
       "PROD_NBR        -0.175700  -0.256321  \n",
       "PROD_QTY         0.519530  -0.031392  \n",
       "TOT_SALES        1.000000   0.409913  \n",
       "Pack_Size        0.409913   1.000000  "
      ]
     },
     "execution_count": 77,
     "metadata": {},
     "output_type": "execute_result"
    }
   ],
   "source": [
    "# Control Store\n",
    "cstore.corr()"
   ]
  },
  {
   "cell_type": "markdown",
   "metadata": {},
   "source": [
    "Result from the  table above shows that\n",
    "- there is 51.9% relationship between product quantity and total Sales.\n",
    "- there is 40% relationship between pack size and total Sales"
   ]
  },
  {
   "cell_type": "code",
   "execution_count": 78,
   "metadata": {},
   "outputs": [
    {
     "data": {
      "text/html": [
       "<div>\n",
       "<style scoped>\n",
       "    .dataframe tbody tr th:only-of-type {\n",
       "        vertical-align: middle;\n",
       "    }\n",
       "\n",
       "    .dataframe tbody tr th {\n",
       "        vertical-align: top;\n",
       "    }\n",
       "\n",
       "    .dataframe thead th {\n",
       "        text-align: right;\n",
       "    }\n",
       "</style>\n",
       "<table border=\"1\" class=\"dataframe\">\n",
       "  <thead>\n",
       "    <tr style=\"text-align: right;\">\n",
       "      <th></th>\n",
       "      <th>STORE_NBR</th>\n",
       "      <th>LYLTY_CARD_NBR</th>\n",
       "      <th>TXN_ID</th>\n",
       "      <th>PROD_NBR</th>\n",
       "      <th>PROD_QTY</th>\n",
       "      <th>TOT_SALES</th>\n",
       "      <th>Pack_Size</th>\n",
       "    </tr>\n",
       "  </thead>\n",
       "  <tbody>\n",
       "    <tr>\n",
       "      <th>STORE_NBR</th>\n",
       "      <td>1.000000</td>\n",
       "      <td>-0.113720</td>\n",
       "      <td>0.044585</td>\n",
       "      <td>-0.030786</td>\n",
       "      <td>0.510827</td>\n",
       "      <td>0.434820</td>\n",
       "      <td>-0.002485</td>\n",
       "    </tr>\n",
       "    <tr>\n",
       "      <th>LYLTY_CARD_NBR</th>\n",
       "      <td>-0.113720</td>\n",
       "      <td>1.000000</td>\n",
       "      <td>0.321903</td>\n",
       "      <td>-0.005472</td>\n",
       "      <td>-0.076769</td>\n",
       "      <td>-0.013573</td>\n",
       "      <td>0.030607</td>\n",
       "    </tr>\n",
       "    <tr>\n",
       "      <th>TXN_ID</th>\n",
       "      <td>0.044585</td>\n",
       "      <td>0.321903</td>\n",
       "      <td>1.000000</td>\n",
       "      <td>0.025673</td>\n",
       "      <td>0.016712</td>\n",
       "      <td>0.053629</td>\n",
       "      <td>0.011791</td>\n",
       "    </tr>\n",
       "    <tr>\n",
       "      <th>PROD_NBR</th>\n",
       "      <td>-0.030786</td>\n",
       "      <td>-0.005472</td>\n",
       "      <td>0.025673</td>\n",
       "      <td>1.000000</td>\n",
       "      <td>-0.021832</td>\n",
       "      <td>-0.141911</td>\n",
       "      <td>-0.234515</td>\n",
       "    </tr>\n",
       "    <tr>\n",
       "      <th>PROD_QTY</th>\n",
       "      <td>0.510827</td>\n",
       "      <td>-0.076769</td>\n",
       "      <td>0.016712</td>\n",
       "      <td>-0.021832</td>\n",
       "      <td>1.000000</td>\n",
       "      <td>0.524481</td>\n",
       "      <td>-0.019214</td>\n",
       "    </tr>\n",
       "    <tr>\n",
       "      <th>TOT_SALES</th>\n",
       "      <td>0.434820</td>\n",
       "      <td>-0.013573</td>\n",
       "      <td>0.053629</td>\n",
       "      <td>-0.141911</td>\n",
       "      <td>0.524481</td>\n",
       "      <td>1.000000</td>\n",
       "      <td>0.400275</td>\n",
       "    </tr>\n",
       "    <tr>\n",
       "      <th>Pack_Size</th>\n",
       "      <td>-0.002485</td>\n",
       "      <td>0.030607</td>\n",
       "      <td>0.011791</td>\n",
       "      <td>-0.234515</td>\n",
       "      <td>-0.019214</td>\n",
       "      <td>0.400275</td>\n",
       "      <td>1.000000</td>\n",
       "    </tr>\n",
       "  </tbody>\n",
       "</table>\n",
       "</div>"
      ],
      "text/plain": [
       "                STORE_NBR  LYLTY_CARD_NBR    TXN_ID  PROD_NBR  PROD_QTY  \\\n",
       "STORE_NBR        1.000000       -0.113720  0.044585 -0.030786  0.510827   \n",
       "LYLTY_CARD_NBR  -0.113720        1.000000  0.321903 -0.005472 -0.076769   \n",
       "TXN_ID           0.044585        0.321903  1.000000  0.025673  0.016712   \n",
       "PROD_NBR        -0.030786       -0.005472  0.025673  1.000000 -0.021832   \n",
       "PROD_QTY         0.510827       -0.076769  0.016712 -0.021832  1.000000   \n",
       "TOT_SALES        0.434820       -0.013573  0.053629 -0.141911  0.524481   \n",
       "Pack_Size       -0.002485        0.030607  0.011791 -0.234515 -0.019214   \n",
       "\n",
       "                TOT_SALES  Pack_Size  \n",
       "STORE_NBR        0.434820  -0.002485  \n",
       "LYLTY_CARD_NBR  -0.013573   0.030607  \n",
       "TXN_ID           0.053629   0.011791  \n",
       "PROD_NBR        -0.141911  -0.234515  \n",
       "PROD_QTY         0.524481  -0.019214  \n",
       "TOT_SALES        1.000000   0.400275  \n",
       "Pack_Size        0.400275   1.000000  "
      ]
     },
     "execution_count": 78,
     "metadata": {},
     "output_type": "execute_result"
    }
   ],
   "source": [
    "# Trial Store\n",
    "tstore.corr()"
   ]
  },
  {
   "cell_type": "markdown",
   "metadata": {},
   "source": [
    "Result from the  table above shows that\n",
    "- there is 52.4% relationship between product quantity and total Sales.\n",
    "- there is 40% relationship between pack size and total Sales"
   ]
  },
  {
   "cell_type": "markdown",
   "metadata": {},
   "source": [
    "Result from the two table above shows that there is similar buying pattern among the two stores"
   ]
  },
  {
   "cell_type": "code",
   "execution_count": null,
   "metadata": {},
   "outputs": [],
   "source": []
  }
 ],
 "metadata": {
  "interpreter": {
   "hash": "8fac594bfae6525c0c41b4041d2d72effa188cc8ead05f81b1fab2bb098927fb"
  },
  "kernelspec": {
   "display_name": "Python 3.9.7 64-bit ('base': conda)",
   "language": "python",
   "name": "python3"
  },
  "language_info": {
   "codemirror_mode": {
    "name": "ipython",
    "version": 3
   },
   "file_extension": ".py",
   "mimetype": "text/x-python",
   "name": "python",
   "nbconvert_exporter": "python",
   "pygments_lexer": "ipython3",
   "version": "3.9.7"
  },
  "orig_nbformat": 4
 },
 "nbformat": 4,
 "nbformat_minor": 2
}
